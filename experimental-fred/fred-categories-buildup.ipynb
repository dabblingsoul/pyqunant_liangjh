{
 "cells": [
  {
   "cell_type": "code",
   "execution_count": null,
   "id": "1a0fdbce",
   "metadata": {},
   "outputs": [],
   "source": [
    "import pyfredapi as pf\n",
    "import pandas as pd\n",
    "import time\n",
    "import pickle\n",
    "import typing"
   ]
  },
  {
   "cell_type": "code",
   "execution_count": null,
   "id": "20fc95c1",
   "metadata": {},
   "outputs": [],
   "source": [
    "pd.set_option('display.max_rows', 100)"
   ]
  },
  {
   "cell_type": "code",
   "execution_count": null,
   "id": "14b90462",
   "metadata": {},
   "outputs": [],
   "source": [
    "API_KEY = '10e0969f13a4b82bc47d736e1047d303'"
   ]
  },
  {
   "cell_type": "code",
   "execution_count": null,
   "id": "95428359",
   "metadata": {},
   "outputs": [],
   "source": [
    "# Init w/ base categories\n",
    "category_tree = [\n",
    "    {'name': 'Money, Banking, & Finance', 'id': 1, 'children': []},\n",
    "    {'name': 'Population, Employment, & Labor Markets', 'id': 10, 'children': []},\n",
    "    {'name': 'National Accounts', 'id': 32992, 'children': []},\n",
    "    {'name': 'Production & Business Activity', 'id': 1, 'children': []},\n",
    "    {'name': 'Prices', 'id': 32455, 'children': []},\n",
    "    {'name': 'International Data', 'id': 32263, 'children': []},\n",
    "    {'name': 'U.S. Regional Data', 'id': 3008, 'children': []},\n",
    "    {'name': 'Academic Data', 'id': 33060, 'children': []},    \n",
    "]"
   ]
  },
  {
   "cell_type": "code",
   "execution_count": null,
   "id": "348ac04b",
   "metadata": {},
   "outputs": [],
   "source": [
    "def build_category_tree(category_tree):\n",
    "    \n",
    "    queue = category_tree.copy()\n",
    "    while len(queue) > 0:\n",
    "        elem = queue.pop(0)\n",
    "        time.sleep(1)\n",
    "#         print(f'retrieving children for: {elem[\"name\"]}')\n",
    "        categories = pf.get_category_children(category_id=elem['id'], api_key=API_KEY)\n",
    "        children = categories['categories']\n",
    "        elem['children'] = children        \n",
    "        if len(children) > 0:\n",
    "            queue += children\n",
    "    \n",
    "    return category_tree"
   ]
  },
  {
   "cell_type": "code",
   "execution_count": null,
   "id": "ed7553c4",
   "metadata": {},
   "outputs": [],
   "source": [
    "category_tree = build_category_tree(category_tree)"
   ]
  },
  {
   "cell_type": "code",
   "execution_count": null,
   "id": "39cdcb10",
   "metadata": {},
   "outputs": [],
   "source": [
    "category_tree = pickle.load(open('/Users/jonathanl/fred-categories.pkl', 'rb'))"
   ]
  },
  {
   "cell_type": "code",
   "execution_count": null,
   "id": "e3681b52",
   "metadata": {
    "scrolled": true
   },
   "outputs": [],
   "source": [
    "category_tree"
   ]
  },
  {
   "cell_type": "raw",
   "id": "ed6d9724",
   "metadata": {},
   "source": [
    "table:\n",
    "\n",
    "name, id, parent_id\n",
    "for root nodes, parent_id will be 0\n",
    "terminal nodes: all nodes who are not a parent\n"
   ]
  },
  {
   "cell_type": "code",
   "execution_count": null,
   "id": "41d70033",
   "metadata": {},
   "outputs": [],
   "source": [
    "\n",
    "def build_category_tree_table(category_tree) -> pd.DataFrame:\n",
    "    '''\n",
    "    Builds a pandas dataframe / table from category tree\n",
    "    '''\n",
    "    \n",
    "    flattened_nodes = []\n",
    "    \n",
    "    # Initial queue - set parent (i.e. 0)\n",
    "    queue = category_tree.copy()\n",
    "    for child in queue:\n",
    "        child['parent_id'] = 0\n",
    "    \n",
    "    while len(queue) > 0:\n",
    "\n",
    "        curr_node = queue.pop(0)\n",
    "        curr_dict = {k:curr_node[k] for k in ('id', 'name', 'parent_id')}\n",
    "        flattened_nodes.append(curr_dict)\n",
    "\n",
    "        if len(curr_node['children']) > 0:\n",
    "            children = curr_node['children']\n",
    "            for child in children:\n",
    "                child['parent_id'] = curr_node['id']\n",
    "            queue.extend(children)\n",
    "    \n",
    "    return pd.DataFrame.from_records(flattened_nodes)\n",
    "    "
   ]
  },
  {
   "cell_type": "code",
   "execution_count": null,
   "id": "0f61aa51",
   "metadata": {},
   "outputs": [],
   "source": [
    "flattened_df = build_category_tree_table(category_tree)"
   ]
  },
  {
   "cell_type": "code",
   "execution_count": null,
   "id": "8487597b",
   "metadata": {},
   "outputs": [],
   "source": [
    "flattened_df"
   ]
  },
  {
   "cell_type": "code",
   "execution_count": null,
   "id": "37ea51ab",
   "metadata": {},
   "outputs": [],
   "source": [
    "flattened_df.shape"
   ]
  },
  {
   "cell_type": "code",
   "execution_count": null,
   "id": "54bacb21",
   "metadata": {},
   "outputs": [],
   "source": [
    "# terminal / leaf categories are all categories who are not a parent\n",
    "terminal_categories = flattened_df[~flattened_df['id'].isin(flattened_df['parent_id'].unique())]"
   ]
  },
  {
   "cell_type": "code",
   "execution_count": null,
   "id": "3cb56827",
   "metadata": {
    "scrolled": false
   },
   "outputs": [],
   "source": [
    "# Writing to parquet format\n",
    "flattened_df.to_parquet('/Users/jonathanl/Workspace/quant-workspace/experimental-fred/data/categories/categories.pq')\n",
    "flattened_df = pd.read_parquet('/Users/jonathanl/Workspace/quant-workspace/experimental-fred/data/categories/categories.pq')"
   ]
  },
  {
   "cell_type": "code",
   "execution_count": null,
   "id": "58b6227d",
   "metadata": {},
   "outputs": [],
   "source": [
    "def subtree_categories(category_ids: typing.List[int], category_df: pd.DataFrame) -> typing.List[int]:\n",
    "    \n",
    "    # find categories, do they exist?\n",
    "    categories = category_df[category_df.id.isin(category_ids)]    \n",
    "    if categories.shape[0] < 1:\n",
    "        return []\n",
    "\n",
    "    # walk thru table, getting children (all category ids)\n",
    "    all_children_category_ids = []\n",
    "    queue = category_ids\n",
    "    while len(queue) > 0:\n",
    "\n",
    "        curr_category_id = queue.pop(0)\n",
    "        children = category_df[category_df.parent_id == curr_category_id]\n",
    "        if children.shape[0] > 0:  # if not terminal node\n",
    "            children_category_ids = list(children.id)\n",
    "            queue.extend(children_category_ids)\n",
    "            all_children_category_ids.extend(children_category_ids)\n",
    "            \n",
    "    return all_children_category_ids\n",
    "    "
   ]
  },
  {
   "cell_type": "code",
   "execution_count": null,
   "id": "88d89871",
   "metadata": {},
   "outputs": [],
   "source": [
    "excluded_child_categories = subtree_categories([3008, 32043, 33060, 32263], flattened_df)"
   ]
  },
  {
   "cell_type": "code",
   "execution_count": null,
   "id": "3e37265e",
   "metadata": {},
   "outputs": [],
   "source": [
    "len(list(set(excluded_child_categories)))"
   ]
  },
  {
   "cell_type": "code",
   "execution_count": null,
   "id": "b4150d49",
   "metadata": {},
   "outputs": [],
   "source": [
    "len(unique(excluded_child_categories))"
   ]
  },
  {
   "cell_type": "code",
   "execution_count": null,
   "id": "55f12a64",
   "metadata": {},
   "outputs": [],
   "source": [
    "pickle.dump(list(set(child_categories)), open('/Users/jonathanl/Workspace/quant-workspace/experimental-fred/data/regional-categories.pkl', 'wb'))"
   ]
  },
  {
   "cell_type": "raw",
   "id": "14ea5970",
   "metadata": {},
   "source": [
    "FEATURES NOTES\n",
    "\n",
    "- Download: Full / Incremental\n",
    "    \n",
    "    - Download: Full\n",
    "\n",
    "    - Download: Incremental\n",
    "\n",
    "    ^ general concerns:\n",
    "        - retries\n",
    "        - batching\n",
    "        - wait / sleep thresholds\n",
    "        - fred api credentials\n",
    "\n",
    "- Maintain watchlist i.e. list of series to be downloaded\n",
    "    - add series to watchlist\n",
    "        - by series id\n",
    "        - by category (i.e. subtree / descendants)\n",
    "        - above/eq to popularity ranking\n",
    "    - remove series from watchlist\n",
    "        - by series id\n",
    "        - by category (i.e. subtree / descendants)\n",
    "        - below/eq to popularity ranking\n",
    "    - show watchlist (series)\n",
    "\n",
    "    ^ general concerns:\n",
    "        - will need a storage medium / mechanism \n",
    "        - is watchlist simply in a \n",
    "        - need a dry run; i.e. so a way to collect all candidates, without actually committing\n",
    "\n",
    "- Show Categories\n",
    "    - Show Top (+ Given starting node)\n",
    "    - Show @ Depth (+ Given starting node)\n",
    "    - Show All (+ Given starting node)\n",
    "    - Show All Series Descendants\n",
    "\n",
    "\n",
    "- API: Read / Analysis\n",
    "\n",
    "    - get series\n",
    "        - first reported value\n",
    "        - latest reported value\n",
    "        - full bitemporal\n",
    "\n",
    "\n",
    "- CLI\n",
    "    - will operate on existing functions\n",
    "    - (a) CLI \n",
    "    - (b) interactive shell    \n",
    "    \n",
    "    \n",
    "- Incremental updates\n",
    "    - for each series on the watchlist\n",
    "    - get latest series info \n",
    "    - check last_updated field\n",
    "    - if last_updated > last_updated in database, then update\n",
    "    - get full update w/ start = 1776 (all updates)\n",
    "        i.e. just do a drop / replace\n",
    "        - fast-fwd to today\n",
    "        - this allows treatment for all series to be the same\n",
    "    \n",
    "//\n",
    "Next Steps:\n",
    "\n",
    "- incremental updates i.e. series feeds\n",
    "- adding series to a watchlist \n",
    "- series-meta / categories should be R/O attributes\n",
    "- \n",
    "\n",
    "\n",
    "\n"
   ]
  },
  {
   "cell_type": "code",
   "execution_count": null,
   "id": "b51fbb25",
   "metadata": {},
   "outputs": [],
   "source": [
    "series_meta = pd.read_parquet('/Users/jonathanl/Workspace/quant-workspace/experimental-fred/data/series-meta/series-meta.pq')"
   ]
  },
  {
   "cell_type": "code",
   "execution_count": null,
   "id": "9bbf03b7",
   "metadata": {},
   "outputs": [],
   "source": [
    "series_meta"
   ]
  },
  {
   "cell_type": "code",
   "execution_count": null,
   "id": "a7cf5b37",
   "metadata": {},
   "outputs": [],
   "source": []
  },
  {
   "cell_type": "code",
   "execution_count": null,
   "id": "1067b882",
   "metadata": {},
   "outputs": [],
   "source": [
    "#. Releases"
   ]
  },
  {
   "cell_type": "code",
   "execution_count": null,
   "id": "a5fb54d9",
   "metadata": {
    "scrolled": true
   },
   "outputs": [],
   "source": [
    "pf.get_release_series(release_id=10, api_key=API_KEY)"
   ]
  },
  {
   "cell_type": "code",
   "execution_count": null,
   "id": "87de7cb4",
   "metadata": {
    "scrolled": true
   },
   "outputs": [],
   "source": [
    "pf.get_releases(last_updated='2023-03-01', api_key=API_KEY)"
   ]
  },
  {
   "cell_type": "code",
   "execution_count": null,
   "id": "d017e00e",
   "metadata": {},
   "outputs": [],
   "source": []
  },
  {
   "cell_type": "code",
   "execution_count": null,
   "id": "e29fe587",
   "metadata": {},
   "outputs": [],
   "source": []
  },
  {
   "cell_type": "code",
   "execution_count": null,
   "id": "41d56d52",
   "metadata": {},
   "outputs": [],
   "source": []
  }
 ],
 "metadata": {
  "kernelspec": {
   "display_name": "Python 3 (ipykernel)",
   "language": "python",
   "name": "python3"
  },
  "language_info": {
   "codemirror_mode": {
    "name": "ipython",
    "version": 3
   },
   "file_extension": ".py",
   "mimetype": "text/x-python",
   "name": "python",
   "nbconvert_exporter": "python",
   "pygments_lexer": "ipython3",
   "version": "3.9.12"
  }
 },
 "nbformat": 4,
 "nbformat_minor": 5
}
