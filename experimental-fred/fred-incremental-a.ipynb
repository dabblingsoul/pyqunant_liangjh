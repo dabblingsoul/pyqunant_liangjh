{
 "cells": [
  {
   "cell_type": "code",
   "execution_count": null,
   "id": "897ceab9",
   "metadata": {},
   "outputs": [],
   "source": [
    "import pyfredapi as pf \n",
    "# ^ ** install this package \"pyfredapi\" via \"pip install pyfredapi\" (or add to your requirements.txt if you have a virtual environment)\n",
    "import pandas as pd\n",
    "import numpy as np\n",
    "import time\n",
    "import typing"
   ]
  },
  {
   "cell_type": "raw",
   "id": "1f6fd5b2",
   "metadata": {},
   "source": [
    "- retrieve category tree\n",
    "- retrieve series meta-data in categories\n",
    "- retrive target series, i.e. >= popularity score 50\n",
    "- serialize (at each step), i.e. pickle is fine\n",
    "- no incremental updates;  just get all / refresh etc."
   ]
  },
  {
   "cell_type": "code",
   "execution_count": 177,
   "id": "37beaead",
   "metadata": {},
   "outputs": [],
   "source": [
    "# --- CONSTANTS ---\n",
    "\n",
    "# API key: \n",
    "# Sign up for your own API key at: https://fred.stlouisfed.org/docs/api/api_key.html\n",
    "API_KEY = '10e0969f13a4b82bc47d736e1047d303'\n",
    "\n",
    "# Location to store / serialize data\n",
    "# Modify for your needs\n",
    "DATA_ROOT_DIR = '/Users/jonathanl/data/fred'\n",
    "\n",
    "# Seconds to sleep in between repeated hits to API\n",
    "SLEEP_SEC = 1\n",
    "\n",
    "# Category Tree Construction\n",
    "# Base / Root / Top-Level Categories\n",
    "ROOT_CATEGORIES = [\n",
    "    {'name': 'Money, Banking, & Finance', 'id': 32991, 'children': []},\n",
    "    {'name': 'Population, Employment, & Labor Markets', 'id': 10, 'children': []},\n",
    "    {'name': 'National Accounts', 'id': 32992, 'children': []},\n",
    "    {'name': 'Production & Business Activity', 'id': 1, 'children': []},\n",
    "    {'name': 'Prices', 'id': 32455, 'children': []},\n",
    "    {'name': 'International Data', 'id': 32263, 'children': []},\n",
    "    {'name': 'U.S. Regional Data', 'id': 3008, 'children': []},\n",
    "    {'name': 'Academic Data', 'id': 33060, 'children': []},    \n",
    "]"
   ]
  },
  {
   "cell_type": "code",
   "execution_count": null,
   "id": "e50dfd82",
   "metadata": {},
   "outputs": [],
   "source": [
    "# --- FUNCTIONS, ALL ---\n",
    "\n",
    "def build_category_tree(category_tree: typing.List[dict]) -> typing.List[dict]:\n",
    "    '''\n",
    "    Build full category tree\n",
    "    BFS through nodes, retrieving child categories\n",
    "    Stop retrieval @ terminal node level\n",
    "    '''\n",
    "    queue = category_tree.copy()\n",
    "    while len(queue) > 0:\n",
    "        elem = queue.pop(0)\n",
    "        time.sleep(SLEEP_SEC)\n",
    "        print('.', end='')\n",
    "        categories = pf.get_category_children(category_id=elem['id'], api_key=API_KEY)\n",
    "        children = categories['categories']\n",
    "        elem['children'] = children        \n",
    "        if len(children) > 0:\n",
    "            queue += children\n",
    "    \n",
    "    return category_tree\n",
    "\n",
    "\n",
    "def build_category_tree_table(category_tree: typing.List[dict]) -> pd.DataFrame:\n",
    "    '''\n",
    "    Given full category tree\n",
    "    Convert to pandas dataframe / table\n",
    "    For each child in category tree, create id reference to parent category node\n",
    "    '''    \n",
    "    flattened_nodes = []\n",
    "    \n",
    "    # Initial queue - set parent (i.e. 0)\n",
    "    queue = category_tree.copy()\n",
    "    for child in queue:\n",
    "        if 'parent_id' not in child:\n",
    "            child['parent_id'] = 0\n",
    "    \n",
    "    while len(queue) > 0:\n",
    "        curr_node = queue.pop(0)\n",
    "        curr_dict = {k:curr_node[k] for k in ('id', 'name', 'parent_id')}\n",
    "        flattened_nodes.append(curr_dict)\n",
    "\n",
    "        if len(curr_node['children']) > 0:\n",
    "            children = curr_node['children']\n",
    "            for child in children:\n",
    "                child['parent_id'] = curr_node['id']\n",
    "            queue.extend(children)\n",
    "    \n",
    "    return pd.DataFrame.from_records(flattened_nodes)\n",
    "    \n",
    "\n",
    "def extract_terminal_categories(category_tree: typing.List[dict]) -> typing.List[dict]:\n",
    "    '''\n",
    "    Given full category tree\n",
    "    Retrieve terminal nodes i.e. nodes without child categories\n",
    "        (will be used for series retrieval)\n",
    "    '''\n",
    "    terminal_nodes = []\n",
    "    queue = category_tree.copy()\n",
    "    while len(queue) > 0:\n",
    "        elem = queue.pop(0)\n",
    "        if len(elem['children']) < 1:\n",
    "            terminal_nodes.append(elem)\n",
    "        else:\n",
    "            queue.extend(elem['children'])\n",
    "    return terminal_nodes\n",
    "\n",
    "\n",
    "def build_series_meta(category_ids: typing.List[int]) -> pd.DataFrame:\n",
    "    '''\n",
    "    Given list of category ids, get associated series\n",
    "    Category ids are expected to be from terminal categories\n",
    "    Link each series to its immediate parent category (terminal category)\n",
    "    Series will consist of series metadata + actual series data (with all / full revisions)\n",
    "    '''\n",
    "    series_frames = []\n",
    "    for category_id in category_ids:\n",
    "        print('.', end='')\n",
    "        category_series = pf.get_category_series(category_id=category_id, api_key=API_KEY)\n",
    "        if len(category_series) > 0:\n",
    "            series_df = pd.DataFrame.from_records([vars(series_info) for series_info in category_series.values()])\n",
    "            series_df['category_id'] = category_id\n",
    "            series_frames.append(series_df)\n",
    "        time.sleep(SLEEP_SEC)\n",
    "    \n",
    "    return pd.concat(series_frames)\n",
    "\n",
    "\n",
    "def get_single_series_data(series_id: str) -> pd.DataFrame:\n",
    "    '''\n",
    "    full time series data, all revisions, for single series\n",
    "    add series id to dataframe to allow for querying / partitioning\n",
    "    '''    \n",
    "    try:\n",
    "        data = pf.get_series_all_releases(series_id, api_key=API_KEY)\n",
    "        data['series'] = series_id\n",
    "        return data\n",
    "    except:\n",
    "        print(f'!! failed to get: {series_id} !!')\n",
    "        return None\n",
    "    \n",
    "\n",
    "def build_series_data(series_ids: typing.List[str]) -> pd.DataFrame:\n",
    "    '''\n",
    "    Given: list of series ids\n",
    "    Retrieve full history, return single dataframe         \n",
    "    '''\n",
    "\n",
    "    series_dfs = []\n",
    "    for series_id in series_ids:\n",
    "        print(f'{series_id}, ', end='')\n",
    "        series_data = get_single_series_data(series_id)\n",
    "        if series_data is not None:\n",
    "            series_dfs.append(series_data)\n",
    "        time.sleep(SLEEP_SEC)\n",
    "    \n",
    "    return pd.concat(series_dfs)\n"
   ]
  },
  {
   "cell_type": "code",
   "execution_count": null,
   "id": "0a7ddc2e",
   "metadata": {},
   "outputs": [],
   "source": [
    "#  Starting with root categories, retrieve full category tree structure\n",
    "#  ** Note: this will take a while **\n",
    "category_tree = build_category_tree(ROOT_CATEGORIES)"
   ]
  },
  {
   "cell_type": "code",
   "execution_count": null,
   "id": "bf55f552",
   "metadata": {},
   "outputs": [],
   "source": [
    "#  Convert tree to dataframe format\n",
    "category_tree_df = build_category_tree_table(category_tree)"
   ]
  },
  {
   "cell_type": "code",
   "execution_count": null,
   "id": "108f3d07",
   "metadata": {},
   "outputs": [],
   "source": [
    "# Persist category tree\n",
    "pd.to_pickle(category_tree_df, open(f'{DATA_ROOT_DIR}/fred-categories.pkl', 'wb'))\n",
    "# category_tree_df = pd.read_pickle(open(f'{DATA_ROOT_DIR}/fred-categories.pkl', 'rb'))"
   ]
  },
  {
   "cell_type": "code",
   "execution_count": null,
   "id": "1a5a3ff6",
   "metadata": {},
   "outputs": [],
   "source": [
    "all_category_ids = list(category_tree_df.id.unique())"
   ]
  },
  {
   "cell_type": "code",
   "execution_count": null,
   "id": "81602ed6",
   "metadata": {},
   "outputs": [],
   "source": [
    "# Get all series categorized\n",
    "# Given terminal categories, get all series metadata\n",
    "# ** Note: this will take a while **\n",
    "series_meta_df = build_series_meta(all_category_ids)"
   ]
  },
  {
   "cell_type": "code",
   "execution_count": null,
   "id": "007f9ca2",
   "metadata": {},
   "outputs": [],
   "source": [
    "# Persist series metadata\n",
    "pd.to_pickle(series_meta_df, open(f'{DATA_ROOT_DIR}/fred-series-meta.pkl', 'wb'))"
   ]
  },
  {
   "cell_type": "code",
   "execution_count": null,
   "id": "f33a59a1",
   "metadata": {},
   "outputs": [],
   "source": [
    "# series_meta_df = pd.read_pickle(open(f'{DATA_ROOT_DIR}/fred-series-meta.pkl', 'rb'))"
   ]
  },
  {
   "cell_type": "code",
   "execution_count": null,
   "id": "828c9896",
   "metadata": {},
   "outputs": [],
   "source": [
    "# Filter series to those above a popularity score\n",
    "# Note: now that you have the full series definitions + categories, there is a lot that you can do here\n",
    "series_popularity_gte_50_df = series_meta_df[series_meta_df.popularity >= 50]"
   ]
  },
  {
   "cell_type": "code",
   "execution_count": null,
   "id": "d093d4db",
   "metadata": {},
   "outputs": [],
   "source": [
    "series_popularity_gte_50_df.shape"
   ]
  },
  {
   "cell_type": "code",
   "execution_count": null,
   "id": "8c4170a0",
   "metadata": {},
   "outputs": [],
   "source": [
    "# Retrieve full data series download candidates\n",
    "# ** Note: this will take a while **\n",
    "series_data_popularity_gte_50_df = build_series_data(series_popularity_gte_50_df.id)"
   ]
  },
  {
   "cell_type": "code",
   "execution_count": null,
   "id": "29a6ff05",
   "metadata": {},
   "outputs": [],
   "source": [
    "# Persist series data\n",
    "pd.to_pickle(series_data_popularity_gte_50_df, open(f'{DATA_ROOT_DIR}/fred-series-data-pop-gte-50.pkl', 'wb'))"
   ]
  },
  {
   "cell_type": "code",
   "execution_count": null,
   "id": "42f847d0",
   "metadata": {},
   "outputs": [],
   "source": [
    "series_data_popularity_gte_50_df = pd.read_pickle(open(f'{DATA_ROOT_DIR}/fred-series-data-pop-gte-50.pkl', 'rb'))"
   ]
  },
  {
   "cell_type": "code",
   "execution_count": null,
   "id": "34efa65c",
   "metadata": {},
   "outputs": [],
   "source": [
    "series_meta_df[series_meta_df.id.isin(['PCEPI', 'EFFR', 'WTREGEN', 'DTWEXBGS', 'SP500', 'WALCL'])]"
   ]
  },
  {
   "cell_type": "code",
   "execution_count": null,
   "id": "2787f464",
   "metadata": {},
   "outputs": [],
   "source": [
    "series_meta_df[series_meta_df.frequency == 'Daily']"
   ]
  },
  {
   "cell_type": "code",
   "execution_count": null,
   "id": "1f4f646d",
   "metadata": {},
   "outputs": [],
   "source": [
    "rels_dts = pf.get_releases_dates(api_key=API_KEY, sort_order='desc', limit=1000)"
   ]
  },
  {
   "cell_type": "code",
   "execution_count": null,
   "id": "ccb2fab6",
   "metadata": {
    "scrolled": false
   },
   "outputs": [],
   "source": [
    "sorted([(rel['date'], rel['release_id'], rel['release_name']) for rel in rels_dts['release_dates']], key=lambda x: x[0], reverse=True)"
   ]
  },
  {
   "cell_type": "code",
   "execution_count": null,
   "id": "da5da9df",
   "metadata": {},
   "outputs": [],
   "source": [
    "len(rels_dts['release_dates'])"
   ]
  },
  {
   "cell_type": "code",
   "execution_count": null,
   "id": "c1d73ff0",
   "metadata": {},
   "outputs": [],
   "source": [
    "rels_dts['release_dates']"
   ]
  },
  {
   "cell_type": "code",
   "execution_count": null,
   "id": "595bb5fb",
   "metadata": {
    "scrolled": false
   },
   "outputs": [],
   "source": [
    "[rel for rel in rels_dts['release_dates'] if rel['release_id'] == 189]"
   ]
  },
  {
   "cell_type": "code",
   "execution_count": null,
   "id": "aa726899",
   "metadata": {},
   "outputs": [],
   "source": [
    "[rels for rels in rels_dts['release_dates'] if 'Standard' in rels['release_name']]"
   ]
  },
  {
   "cell_type": "code",
   "execution_count": null,
   "id": "42bd36de",
   "metadata": {},
   "outputs": [],
   "source": [
    "rel_sp500 = pf.get_release(release_id=189, api_key=API_KEY)"
   ]
  },
  {
   "cell_type": "code",
   "execution_count": null,
   "id": "4a9ea5bd",
   "metadata": {},
   "outputs": [],
   "source": [
    "rel_sp500"
   ]
  },
  {
   "cell_type": "code",
   "execution_count": null,
   "id": "ab4b2447",
   "metadata": {},
   "outputs": [],
   "source": []
  }
 ],
 "metadata": {
  "kernelspec": {
   "display_name": "Python 3 (ipykernel)",
   "language": "python",
   "name": "python3"
  },
  "language_info": {
   "codemirror_mode": {
    "name": "ipython",
    "version": 3
   },
   "file_extension": ".py",
   "mimetype": "text/x-python",
   "name": "python",
   "nbconvert_exporter": "python",
   "pygments_lexer": "ipython3",
   "version": "3.9.12"
  }
 },
 "nbformat": 4,
 "nbformat_minor": 5
}
