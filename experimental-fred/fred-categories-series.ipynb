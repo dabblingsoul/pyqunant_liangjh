{
 "cells": [
  {
   "cell_type": "code",
   "execution_count": null,
   "id": "01a21091",
   "metadata": {},
   "outputs": [],
   "source": [
    "import pyfredapi as pf\n",
    "import pandas as pd\n",
    "import numpy as np\n",
    "import time\n",
    "import pickle"
   ]
  },
  {
   "cell_type": "code",
   "execution_count": null,
   "id": "4f3dc519",
   "metadata": {},
   "outputs": [],
   "source": [
    "API_KEY = '10e0969f13a4b82bc47d736e1047d303'"
   ]
  },
  {
   "cell_type": "code",
   "execution_count": null,
   "id": "40e9c33f",
   "metadata": {},
   "outputs": [],
   "source": [
    "# Init w/ base categories\n",
    "category_tree = [\n",
    "    {'name': 'Money, Banking, & Finance', 'id': 1, 'children': []},\n",
    "    {'name': 'Population, Employment, & Labor Markets', 'id': 10, 'children': []},\n",
    "    {'name': 'National Accounts', 'id': 32992, 'children': []},\n",
    "    {'name': 'Production & Business Activity', 'id': 1, 'children': []},\n",
    "    {'name': 'Prices', 'id': 32455, 'children': []},\n",
    "    {'name': 'International Data', 'id': 32263, 'children': []},\n",
    "    {'name': 'U.S. Regional Data', 'id': 3008, 'children': []},\n",
    "    {'name': 'Academic Data', 'id': 33060, 'children': []},    \n",
    "]"
   ]
  },
  {
   "cell_type": "code",
   "execution_count": null,
   "id": "1f81e694",
   "metadata": {},
   "outputs": [],
   "source": [
    "\n",
    "def build_category_tree(category_tree):\n",
    "    \n",
    "    queue = category_tree.copy()\n",
    "    while len(queue) > 0:\n",
    "        elem = queue.pop(0)\n",
    "        time.sleep(1)\n",
    "#         print(f'retrieving children for: {elem[\"name\"]}')\n",
    "        categories = pf.get_category_children(category_id=elem['id'], api_key=API_KEY)\n",
    "        children = categories['categories']\n",
    "        elem['children'] = children        \n",
    "        if len(children) > 0:\n",
    "            queue += children\n",
    "    \n",
    "    return category_tree\n",
    "            "
   ]
  },
  {
   "cell_type": "code",
   "execution_count": null,
   "id": "1200359c",
   "metadata": {},
   "outputs": [],
   "source": [
    "filled_category_tree = build_category_tree(category_tree)"
   ]
  },
  {
   "cell_type": "code",
   "execution_count": null,
   "id": "79cb8e44",
   "metadata": {},
   "outputs": [],
   "source": [
    "# pickle.dump(filled_category_tree, open('/Users/jonathanl/fred-categories.pkl', 'wb'))"
   ]
  },
  {
   "cell_type": "code",
   "execution_count": null,
   "id": "46c9d8ca",
   "metadata": {},
   "outputs": [],
   "source": [
    "def extract_terminal_nodes(category_tree):\n",
    "    \n",
    "    terminal_nodes = []\n",
    "    queue = category_tree.copy()\n",
    "    while len(queue) > 0:\n",
    "        elem = queue.pop(0)\n",
    "#         print(f'visiting node: {elem[\"name\"]}')\n",
    "        if len(elem['children']) < 1:\n",
    "            terminal_nodes.append(elem)\n",
    "        else:\n",
    "            queue.extend(elem['children'])\n",
    "    return terminal_nodes"
   ]
  },
  {
   "cell_type": "code",
   "execution_count": null,
   "id": "8f31aafd",
   "metadata": {
    "scrolled": true
   },
   "outputs": [],
   "source": [
    "terminal_nodes = extract_terminal_nodes(filled_category_tree)"
   ]
  },
  {
   "cell_type": "code",
   "execution_count": null,
   "id": "d8f190dd",
   "metadata": {},
   "outputs": [],
   "source": [
    "len(terminal_nodes)"
   ]
  },
  {
   "cell_type": "code",
   "execution_count": null,
   "id": "168f1736",
   "metadata": {},
   "outputs": [],
   "source": [
    "def build_series_dictionary(terminal_categories):\n",
    "    '''\n",
    "    Given list of categories, get associated series\n",
    "    link each series to its terminal \n",
    "    Series will consist of series metadata + actual series data (with all / full revisions)\n",
    "    '''\n",
    "    series_frames = []\n",
    "    for category in terminal_categories:\n",
    "        print(f'processing category: {category[\"name\"]}')\n",
    "        category_series = pf.get_category_series(category_id=category['id'], api_key=API_KEY)\n",
    "        series_df = pd.DataFrame.from_records([vars(series_info) for series_info in category_series.values()])\n",
    "        series_df['category_id'] = category['id']\n",
    "        series_frames.append(series_df)\n",
    "        time.sleep(1)\n",
    "    \n",
    "    return series_frames"
   ]
  },
  {
   "cell_type": "code",
   "execution_count": null,
   "id": "054d5172",
   "metadata": {},
   "outputs": [],
   "source": [
    "series_frames = build_series_dictionary(terminal_nodes)"
   ]
  },
  {
   "cell_type": "code",
   "execution_count": null,
   "id": "115783c4",
   "metadata": {},
   "outputs": [],
   "source": [
    "series_df = pd.concat(series_frames)"
   ]
  },
  {
   "cell_type": "code",
   "execution_count": null,
   "id": "0279bfe6",
   "metadata": {},
   "outputs": [],
   "source": [
    "series_df.to_parquet('/Users/jonathanl/Workspace/quant-workspace/experimental-fred/data/series-meta/series-meta.pq')"
   ]
  },
  {
   "cell_type": "code",
   "execution_count": null,
   "id": "6caaabc0",
   "metadata": {},
   "outputs": [],
   "source": [
    "series_df.id.unique()"
   ]
  },
  {
   "cell_type": "code",
   "execution_count": null,
   "id": "a6e62665",
   "metadata": {},
   "outputs": [],
   "source": [
    "series_df.columns"
   ]
  },
  {
   "cell_type": "code",
   "execution_count": null,
   "id": "09c26679",
   "metadata": {},
   "outputs": [],
   "source": [
    "excluded_child_categories = pickle.load(open('/Users/jonathanl/Workspace/quant-workspace/experimental-fred/data/regional-categories.pkl', 'rb'))"
   ]
  },
  {
   "cell_type": "code",
   "execution_count": null,
   "id": "88447ccd",
   "metadata": {},
   "outputs": [],
   "source": [
    "len(excluded_child_categories)"
   ]
  },
  {
   "cell_type": "code",
   "execution_count": null,
   "id": "c5f8e694",
   "metadata": {},
   "outputs": [],
   "source": [
    "series_filtered_df = series_df[~series_df.category_id.isin(excluded_child_categories)]"
   ]
  },
  {
   "cell_type": "code",
   "execution_count": null,
   "id": "ee42a959",
   "metadata": {},
   "outputs": [],
   "source": [
    "len(series_filtered_df.id.unique())"
   ]
  },
  {
   "cell_type": "code",
   "execution_count": null,
   "id": "6653771a",
   "metadata": {},
   "outputs": [],
   "source": [
    "def get_series_full(series_id: str) -> pd.DataFrame:\n",
    "    '''\n",
    "    full data, all revisions\n",
    "    add series id to dataframe\n",
    "    '''    \n",
    "    try:\n",
    "        data = pf.get_series_all_releases(series_id, api_key=API_KEY)\n",
    "        data['series'] = series_id\n",
    "        return data\n",
    "    except:\n",
    "        print(f'!! failed to get: {series_id} !!')\n",
    "        return None\n",
    "    \n",
    "# TODO: retrieve incremental data / information\n",
    "# Figure out release schedule / release logistics\n"
   ]
  },
  {
   "cell_type": "code",
   "execution_count": null,
   "id": "57d51ae8",
   "metadata": {},
   "outputs": [],
   "source": [
    "series_grouped = np.array_split(series_filtered_df.id.unique(), 1000)"
   ]
  },
  {
   "cell_type": "code",
   "execution_count": null,
   "id": "c6686be2",
   "metadata": {},
   "outputs": [],
   "source": [
    "# all series dataframes\n",
    "series_df = []"
   ]
  },
  {
   "cell_type": "code",
   "execution_count": null,
   "id": "d95ef355",
   "metadata": {
    "scrolled": true
   },
   "outputs": [],
   "source": [
    "\n",
    "# process by group, avoid issues\n",
    "idx = 53\n",
    "for group in series_grouped[53:]:\n",
    "    print(f\"processing group: {idx}\")    \n",
    "    for series_id in group:        \n",
    "        print(f\"{series_id}, \", end=\"\")\n",
    "        series_data = get_series_full(series_id)\n",
    "        if series_data is not None:\n",
    "            series_df.append(series_data)\n",
    "        time.sleep(1)\n",
    "    print()    \n",
    "    idx += 1\n",
    "    "
   ]
  },
  {
   "cell_type": "code",
   "execution_count": null,
   "id": "47c23a81",
   "metadata": {},
   "outputs": [],
   "source": [
    "len(series_df)"
   ]
  },
  {
   "cell_type": "code",
   "execution_count": null,
   "id": "40a89c7c",
   "metadata": {},
   "outputs": [],
   "source": [
    "len(series_df)"
   ]
  },
  {
   "cell_type": "code",
   "execution_count": null,
   "id": "ebb107e9",
   "metadata": {},
   "outputs": [],
   "source": [
    "series_df[0]"
   ]
  },
  {
   "cell_type": "code",
   "execution_count": null,
   "id": "b1be4629",
   "metadata": {},
   "outputs": [],
   "source": [
    "pd.concat(series_df).to_parquet('/Users/jonathanl/Workspace/quant-workspace/experimental-fred/data/series-data/', partition_cols=['series'])"
   ]
  },
  {
   "cell_type": "code",
   "execution_count": null,
   "id": "2cdb899e",
   "metadata": {},
   "outputs": [],
   "source": [
    "pd.to_pickle(pd.concat(series_df), open('/Users/jonathanl/Workspace/quant-workspace/experimental-fred/data/series-checkpoint-full.pkl', 'wb'))"
   ]
  },
  {
   "cell_type": "code",
   "execution_count": null,
   "id": "074a4297",
   "metadata": {},
   "outputs": [],
   "source": []
  },
  {
   "cell_type": "code",
   "execution_count": null,
   "id": "a13f71ba",
   "metadata": {},
   "outputs": [],
   "source": [
    "pd.to_pickle(pd.concat(series_df), open('/Users/jonathanl/Workspace/quant-workspace/experimental-fred/data/series-checkpoint-1.pkl', 'wb'))"
   ]
  },
  {
   "cell_type": "code",
   "execution_count": null,
   "id": "998b1c82",
   "metadata": {},
   "outputs": [],
   "source": [
    "# Storage: \n",
    "# (a) Category tree\n",
    "# (b) Series metadata\n",
    "# (c) Series data (i.e. parquet load)"
   ]
  },
  {
   "cell_type": "code",
   "execution_count": null,
   "id": "80ac9ed7",
   "metadata": {},
   "outputs": [],
   "source": [
    "# Retrieval from Storage\n",
    "# (a) for series: initial numbers\n",
    "# (b) for series: latest revisions"
   ]
  },
  {
   "cell_type": "code",
   "execution_count": null,
   "id": "b6b2a177",
   "metadata": {},
   "outputs": [],
   "source": [
    "500000 / 120 / 60"
   ]
  },
  {
   "cell_type": "code",
   "execution_count": null,
   "id": "6cdebebc",
   "metadata": {},
   "outputs": [],
   "source": [
    "69/ 24"
   ]
  },
  {
   "cell_type": "code",
   "execution_count": null,
   "id": "3d9ca95b",
   "metadata": {},
   "outputs": [],
   "source": []
  },
  {
   "cell_type": "code",
   "execution_count": null,
   "id": "8d475d1c",
   "metadata": {},
   "outputs": [],
   "source": []
  },
  {
   "cell_type": "code",
   "execution_count": null,
   "id": "45fb7934",
   "metadata": {},
   "outputs": [],
   "source": []
  },
  {
   "cell_type": "code",
   "execution_count": null,
   "id": "8d96436c",
   "metadata": {},
   "outputs": [],
   "source": []
  }
 ],
 "metadata": {
  "kernelspec": {
   "display_name": "Python 3 (ipykernel)",
   "language": "python",
   "name": "python3"
  },
  "language_info": {
   "codemirror_mode": {
    "name": "ipython",
    "version": 3
   },
   "file_extension": ".py",
   "mimetype": "text/x-python",
   "name": "python",
   "nbconvert_exporter": "python",
   "pygments_lexer": "ipython3",
   "version": "3.9.12"
  }
 },
 "nbformat": 4,
 "nbformat_minor": 5
}
