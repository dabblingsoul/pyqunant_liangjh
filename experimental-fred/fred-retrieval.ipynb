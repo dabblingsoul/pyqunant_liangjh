{
 "cells": [
  {
   "cell_type": "code",
   "execution_count": null,
   "id": "cee14d2b",
   "metadata": {},
   "outputs": [],
   "source": [
    "import pyfredapi as pfred\n",
    "import pandas as pd"
   ]
  },
  {
   "cell_type": "code",
   "execution_count": null,
   "id": "f6e9ccfc",
   "metadata": {},
   "outputs": [],
   "source": [
    "pd.set_option('display.max_rows', 100)"
   ]
  },
  {
   "cell_type": "code",
   "execution_count": null,
   "id": "23e318cd",
   "metadata": {},
   "outputs": [],
   "source": [
    "API_KEY = '10e0969f13a4b82bc47d736e1047d303'"
   ]
  },
  {
   "cell_type": "code",
   "execution_count": null,
   "id": "cc520b05",
   "metadata": {},
   "outputs": [],
   "source": [
    "gdp = pfred.get_series_info(series_id='GDP', api_key=API_KEY)\n",
    "gdp_all_df = pfred.get_series_all_releases('GDP', api_key=API_KEY)"
   ]
  },
  {
   "cell_type": "code",
   "execution_count": null,
   "id": "323262b6",
   "metadata": {},
   "outputs": [],
   "source": [
    "gdp"
   ]
  },
  {
   "cell_type": "code",
   "execution_count": null,
   "id": "d5d93395",
   "metadata": {},
   "outputs": [],
   "source": [
    "gdp_all_df = gdp_all_df[gdp_all_df['value'].notna()]"
   ]
  },
  {
   "cell_type": "code",
   "execution_count": null,
   "id": "ed8a17e0",
   "metadata": {},
   "outputs": [],
   "source": [
    "gdp_all_df"
   ]
  },
  {
   "cell_type": "code",
   "execution_count": null,
   "id": "e9b63e0a",
   "metadata": {},
   "outputs": [],
   "source": [
    "gdp_all_df.dtypes"
   ]
  },
  {
   "cell_type": "code",
   "execution_count": null,
   "id": "67bb625a",
   "metadata": {},
   "outputs": [],
   "source": [
    "pfred.get_category(category_id=32991, api_key=API_KEY)"
   ]
  },
  {
   "cell_type": "code",
   "execution_count": null,
   "id": "6fa9ac70",
   "metadata": {},
   "outputs": [],
   "source": [
    "pfred.get_category_children(category_id=32991, api_key=API_KEY)"
   ]
  },
  {
   "cell_type": "code",
   "execution_count": null,
   "id": "cad7996f",
   "metadata": {},
   "outputs": [],
   "source": [
    "pfred.get_category_children(category_id=22, api_key=API_KEY)"
   ]
  },
  {
   "cell_type": "code",
   "execution_count": null,
   "id": "24a9bc28",
   "metadata": {},
   "outputs": [],
   "source": [
    "pfred.get_category_children(category_id=33058, api_key=API_KEY)"
   ]
  },
  {
   "cell_type": "code",
   "execution_count": null,
   "id": "39553cd2",
   "metadata": {},
   "outputs": [],
   "source": [
    "category_series = pfred.get_category_series(category_id=33058, api_key=API_KEY)"
   ]
  },
  {
   "cell_type": "code",
   "execution_count": null,
   "id": "d011f712",
   "metadata": {},
   "outputs": [],
   "source": [
    "category_series"
   ]
  },
  {
   "cell_type": "code",
   "execution_count": null,
   "id": "d0dffd86",
   "metadata": {},
   "outputs": [],
   "source": [
    "list(category_series.values())"
   ]
  },
  {
   "cell_type": "code",
   "execution_count": null,
   "id": "e8914e16",
   "metadata": {},
   "outputs": [],
   "source": [
    "pd.DataFrame.from_records([\n",
    "    vars(series)\n",
    "  for series in category_series.values()  \n",
    "])"
   ]
  },
  {
   "cell_type": "code",
   "execution_count": null,
   "id": "6e226f64",
   "metadata": {},
   "outputs": [],
   "source": [
    "vars(category_series['RIFLPBCIANM60NM'])"
   ]
  },
  {
   "cell_type": "code",
   "execution_count": null,
   "id": "b82a834c",
   "metadata": {},
   "outputs": [],
   "source": []
  },
  {
   "cell_type": "code",
   "execution_count": null,
   "id": "8d87cd7c",
   "metadata": {},
   "outputs": [],
   "source": [
    "pfred.get_category_series(category_id=22, api_key=API_KEY)"
   ]
  },
  {
   "cell_type": "code",
   "execution_count": null,
   "id": "a911fd7d",
   "metadata": {},
   "outputs": [],
   "source": [
    "pfred_get_category_series"
   ]
  },
  {
   "cell_type": "raw",
   "id": "2a0082bf",
   "metadata": {},
   "source": [
    "data download\n",
    "- get top-level category ids\n",
    "- recursive discovery of series\n",
    "- track meta-info + periodicity\n",
    "- get full history (all reported), for each series\n",
    "- figure out data release schedule;  reconcile w/ downloaded\n",
    "\n",
    "persistence\n",
    "- parquet format save\n",
    "- append-only\n",
    "- "
   ]
  },
  {
   "cell_type": "code",
   "execution_count": null,
   "id": "c650aa15",
   "metadata": {
    "scrolled": true
   },
   "outputs": [],
   "source": [
    "pfred.get_releases(api_key=API_KEY)"
   ]
  },
  {
   "cell_type": "code",
   "execution_count": null,
   "id": "95505958",
   "metadata": {},
   "outputs": [],
   "source": [
    "pfred.get_release(release_id=505, api_key=API_KEY)"
   ]
  },
  {
   "cell_type": "code",
   "execution_count": null,
   "id": "0729280e",
   "metadata": {
    "scrolled": true
   },
   "outputs": [],
   "source": [
    "pfred.get_release_series(release_id=505, api_key=API_KEY)"
   ]
  },
  {
   "cell_type": "code",
   "execution_count": null,
   "id": "d03dca81",
   "metadata": {},
   "outputs": [],
   "source": []
  },
  {
   "cell_type": "code",
   "execution_count": null,
   "id": "63eeab53",
   "metadata": {},
   "outputs": [],
   "source": []
  },
  {
   "cell_type": "code",
   "execution_count": null,
   "id": "1b935c3b",
   "metadata": {},
   "outputs": [],
   "source": []
  },
  {
   "cell_type": "code",
   "execution_count": null,
   "id": "71e39104",
   "metadata": {},
   "outputs": [],
   "source": []
  }
 ],
 "metadata": {
  "kernelspec": {
   "display_name": "Python 3 (ipykernel)",
   "language": "python",
   "name": "python3"
  },
  "language_info": {
   "codemirror_mode": {
    "name": "ipython",
    "version": 3
   },
   "file_extension": ".py",
   "mimetype": "text/x-python",
   "name": "python",
   "nbconvert_exporter": "python",
   "pygments_lexer": "ipython3",
   "version": "3.9.12"
  }
 },
 "nbformat": 4,
 "nbformat_minor": 5
}
