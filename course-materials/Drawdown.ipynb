{
 "cells": [
  {
   "cell_type": "markdown",
   "id": "de8dc108",
   "metadata": {},
   "source": [
    "# How To Compute Drawdown On An Investment"
   ]
  },
  {
   "cell_type": "markdown",
   "id": "6f18f032",
   "metadata": {},
   "source": [
    "Drawdown is the maximum decline from peak to trough during a specific period before a new peak is reached. Every [trading](https://pyquantnews.com/trading/) strategy experiences drawdowns. Computing it helps you compare the relative riskiness between assets or strategies.\n",
    "\n",
    "Unfortunately, most people don’t consider drawdown when managing their investments. Or if they do, struggle to compute it."
   ]
  },
  {
   "cell_type": "markdown",
   "id": "b7c169cb",
   "metadata": {},
   "source": [
    "## Step 1: Get The Data"
   ]
  },
  {
   "cell_type": "markdown",
   "id": "89a258f3",
   "metadata": {},
   "source": [
    "I start by importing the libraries I need."
   ]
  },
  {
   "cell_type": "code",
   "execution_count": 1,
   "id": "32f85fb3",
   "metadata": {},
   "outputs": [],
   "source": [
    "import yfinance as yf\n",
    "import numpy as np"
   ]
  },
  {
   "cell_type": "markdown",
   "id": "c56a1de9",
   "metadata": {},
   "source": [
    "Then I get data and compute the simple returns.\n"
   ]
  },
  {
   "cell_type": "code",
   "execution_count": 2,
   "id": "d0590d2c",
   "metadata": {},
   "outputs": [
    {
     "name": "stdout",
     "output_type": "stream",
     "text": [
      "[*********************100%***********************]  1 of 1 completed\n"
     ]
    }
   ],
   "source": [
    "data = yf.download(\"SPY\", start=\"2020-01-01\", end=\"2022-07-31\")"
   ]
  },
  {
   "cell_type": "code",
   "execution_count": 3,
   "id": "3f338e0b",
   "metadata": {},
   "outputs": [],
   "source": [
    "returns = data[\"Adj Close\"].pct_change()"
   ]
  },
  {
   "cell_type": "markdown",
   "id": "9b081134",
   "metadata": {},
   "source": [
    "I use yfinance to get stock data – in this case, SPY. Drawdown is usually computed with the returns of a portfolio. I want to keep it simple so I use the S&P500 ETF."
   ]
  },
  {
   "cell_type": "markdown",
   "id": "2bbeba2a",
   "metadata": {},
   "source": [
    "## Step 2: Create The Drawdown Function"
   ]
  },
  {
   "cell_type": "markdown",
   "id": "af29c437",
   "metadata": {},
   "source": [
    "Drawdown is computed with 4 lines of code.\n",
    "\n",
    "When computing returns, the first value is turned into <i>np.nan</i>. I replace it with a 0.0 to compute cumulative returns. Then I create a cumulative return series which is the cumulative product of 1 plus the return. Next, I use NumPy’s <i>accumulate</i> function. Accumulate tracks the running maximum value which is perfect for keeping tabs on the peak return.\n",
    "\n",
    "Finally, I compute the percentage difference between the cumulative and peak returns.\n",
    "\n",
    "Here’s the code:"
   ]
  },
  {
   "cell_type": "code",
   "execution_count": 4,
   "id": "265867ef",
   "metadata": {},
   "outputs": [],
   "source": [
    "def drawdown(returns):\n",
    "    \"\"\"Determines the drawdown\n",
    "    \n",
    "    Parameters\n",
    "    ----------\n",
    "    returns : pd.Series\n",
    "        Daily returns of an asset, noncumulative\n",
    "    \n",
    "    Returns\n",
    "    -------\n",
    "    drawdown : pd.Series\n",
    "    \n",
    "    \"\"\"\n",
    "\n",
    "    # replace the first nan value with 0.0\n",
    "    returns.fillna(0.0, inplace=True)\n",
    "\n",
    "    # create cumulative returns\n",
    "    cumulative = (returns + 1).cumprod()\n",
    "\n",
    "    # np.maximum.accumulate takes the running max value\n",
    "    # of the input series. in this case, it will maintain\n",
    "    # the running maximum value. this is the running\n",
    "    # maximum return\n",
    "    running_max = np.maximum.accumulate(cumulative)\n",
    "\n",
    "    # compute the change between the cumulative return\n",
    "    # and the running maximum return\n",
    "    return (cumulative - running_max) / running_max"
   ]
  },
  {
   "cell_type": "markdown",
   "id": "1eabcc4f",
   "metadata": {},
   "source": [
    "And the plot."
   ]
  },
  {
   "cell_type": "code",
   "execution_count": 5,
   "id": "16cb1f91",
   "metadata": {},
   "outputs": [
    {
     "data": {
      "text/plain": [
       "<AxesSubplot:xlabel='Date'>"
      ]
     },
     "execution_count": 5,
     "metadata": {},
     "output_type": "execute_result"
    },
    {
     "data": {
      "image/png": "[encoded data removed]",
      "text/plain": [
       "<Figure size 432x288 with 1 Axes>"
      ]
     },
     "metadata": {
      "needs_background": "light"
     },
     "output_type": "display_data"
    }
   ],
   "source": [
    "drawdown(returns).plot(kind=\"area\", color=\"salmon\", alpha=0.5)"
   ]
  },
  {
   "cell_type": "markdown",
   "id": "eab6aa87",
   "metadata": {},
   "source": [
    "This chart shows SPY dropping 33.7% from its peak to trough return in 2020.\n",
    "\n"
   ]
  },
  {
   "cell_type": "markdown",
   "id": "0ff49baf",
   "metadata": {},
   "source": [
    "## Step 3: Create A Max Drawdown Function\n"
   ]
  },
  {
   "cell_type": "markdown",
   "id": "721dcc3e",
   "metadata": {},
   "source": [
    "Next, I use the <i>drawdown</i> to compute a max drawdown chart.\n",
    "\n",
    "The max drawdown differs from the drawdown by tracking the maximum drawdown of a 30-day rolling window of returns. To use rolling statistics, check out [this issue](https://preview.convertkit-mail2.com/click/dpheh0hzhm/aHR0cHM6Ly9weXF1YW50bmV3cy5jb20vcHFuLTAwNi12aXN1YWxpemUtdGhlLXRyZW5kLXdpdGgtcGFuZGFzLXJvbGxpbmcv) of The PyQuant Newsletter.\n",
    "\n",
    "Here’s the code."
   ]
  },
  {
   "cell_type": "code",
   "execution_count": 6,
   "id": "78a2b7f9",
   "metadata": {},
   "outputs": [],
   "source": [
    "def max_drawdown(returns):\n",
    "    \"\"\" Determines the maximum drawdown\n",
    "    \n",
    "    Parameters\n",
    "    ----------\n",
    "    returns : pd.Series\n",
    "        Daily returns of an asset, noncumulative\n",
    "    \n",
    "    Returns\n",
    "    -------\n",
    "    max_drawdown : float\n",
    "    \n",
    "    \"\"\"\n",
    "\n",
    "    return np.min(drawdown(returns))"
   ]
  },
  {
   "cell_type": "markdown",
   "id": "8b26b4f3",
   "metadata": {},
   "source": [
    "<i>max_drawdown</i> applies the <i>drawdown</i> function to 30 days of returns and figures out the smallest (most negative) value that occurs over those 30 days. Then it moves forward one day, computes it again, until the end of the series."
   ]
  },
  {
   "cell_type": "code",
   "execution_count": 7,
   "id": "63a89faf",
   "metadata": {},
   "outputs": [
    {
     "data": {
      "text/plain": [
       "-0.3371726664821896"
      ]
     },
     "execution_count": 7,
     "metadata": {},
     "output_type": "execute_result"
    }
   ],
   "source": [
    "max_drawdown(returns)"
   ]
  },
  {
   "cell_type": "markdown",
   "id": "38cbb76b",
   "metadata": {},
   "source": [
    "Here’s the plot.\n"
   ]
  },
  {
   "cell_type": "code",
   "execution_count": 8,
   "id": "3a70072a",
   "metadata": {},
   "outputs": [
    {
     "data": {
      "text/plain": [
       "<AxesSubplot:xlabel='Date'>"
      ]
     },
     "execution_count": 8,
     "metadata": {},
     "output_type": "execute_result"
    },
    {
     "data": {
      "image/png": "[encoded data removed]",
      "text/plain": [
       "<Figure size 432x288 with 1 Axes>"
      ]
     },
     "metadata": {
      "needs_background": "light"
     },
     "output_type": "display_data"
    }
   ],
   "source": [
    "returns.rolling(30).apply(max_drawdown).plot(kind=\"area\", color=\"salmon\", alpha=0.5)"
   ]
  },
  {
   "cell_type": "markdown",
   "id": "2dc94dc8",
   "metadata": {},
   "source": [
    "Drawdown and max drawdown focus on capital preservation. It’s a useful indicator of the riskiness of a stock, portfolio, or strategy. Use it to help manage your risk."
   ]
  },
  {
   "cell_type": "code",
   "execution_count": null,
   "id": "c4d3b2b8",
   "metadata": {},
   "outputs": [],
   "source": []
  }
 ],
 "metadata": {
  "kernelspec": {
   "display_name": "Python 3 (ipykernel)",
   "language": "python",
   "name": "python3"
  },
  "language_info": {
   "codemirror_mode": {
    "name": "ipython",
    "version": 3
   },
   "file_extension": ".py",
   "mimetype": "text/x-python",
   "name": "python",
   "nbconvert_exporter": "python",
   "pygments_lexer": "ipython3",
   "version": "3.9.13"
  }
 },
 "nbformat": 4,
 "nbformat_minor": 5
}
