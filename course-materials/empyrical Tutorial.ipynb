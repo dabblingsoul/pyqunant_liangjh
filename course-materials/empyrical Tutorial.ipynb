{
 "cells": [
  {
   "cell_type": "markdown",
   "id": "e5880605",
   "metadata": {},
   "source": [
    "## Simple Statistics\n",
    "Empyrical computes basic metrics from returns and volatility to alpha and beta, Value at Risk, and Shorpe or Sortino ratios."
   ]
  },
  {
   "cell_type": "code",
   "execution_count": 1,
   "id": "c134185d",
   "metadata": {},
   "outputs": [],
   "source": [
    "import numpy as np\n",
    "import pandas as pd\n",
    "import seaborn as sns\n",
    "import matplotlib.pyplot as plt\n",
    "\n",
    "import empyrical as ep"
   ]
  },
  {
   "cell_type": "code",
   "execution_count": 3,
   "id": "3d2f08ac",
   "metadata": {},
   "outputs": [
    {
     "name": "stdout",
     "output_type": "stream",
     "text": [
      "-0.4472800000000001\n",
      "-0.7960672549836803 1.1243025418474892\n"
     ]
    }
   ],
   "source": [
    "# replace with stock or portfolio returns and appropriate benchmark\n",
    "returns = np.array([.01, .02, .03, -.4, -.06, -.02])\n",
    "benchmark_returns = np.array([.02, .02, .03, -.35, -.05, -.01])\n",
    "\n",
    "# calculate the max drawdown\n",
    "max_dd = ep.max_drawdown(returns)\n",
    "print(max_dd)\n",
    "\n",
    "\n",
    "# calculate alpha and beta\n",
    "alpha, beta = ep.alpha_beta(returns, benchmark_returns)\n",
    "\n",
    "print(alpha, beta)"
   ]
  },
  {
   "cell_type": "markdown",
   "id": "f88351a8",
   "metadata": {},
   "source": [
    "## Rolling Measures¶\n",
    "Empyrical also aggregates returna nd risk metrics for rolling windows:"
   ]
  },
  {
   "cell_type": "code",
   "execution_count": 4,
   "id": "38228690",
   "metadata": {},
   "outputs": [
    {
     "data": {
      "text/plain": [
       "array([ 0.     , -0.4    , -0.436  , -0.44728])"
      ]
     },
     "execution_count": 4,
     "metadata": {},
     "output_type": "execute_result"
    }
   ],
   "source": [
    "returns = np.array([.01, .02, .03, -.4, -.06, -.02])\n",
    "\n",
    "# calculate the rolling max drawdown\n",
    "ep.roll_max_drawdown(returns, window=3)"
   ]
  },
  {
   "cell_type": "markdown",
   "id": "80fd462f",
   "metadata": {},
   "source": [
    "## Pandas Support\n",
    "\n",
    "Empyrical also works with both NumPy arrays and Pandas data structures:"
   ]
  },
  {
   "cell_type": "code",
   "execution_count": 5,
   "id": "ad0a48e3",
   "metadata": {},
   "outputs": [
    {
     "data": {
      "text/plain": [
       "-0.147387712263491"
      ]
     },
     "execution_count": 5,
     "metadata": {},
     "output_type": "execute_result"
    }
   ],
   "source": [
    "returns = pd.Series([.01, .02, .03, -.4, -.06, -.02])\n",
    "factor_returns = pd.Series([.02, .01, .03, -.01, -.02, .02])\n",
    "\n",
    "# calculate a capture ratio\n",
    "ep.capture(returns, factor_returns)"
   ]
  },
  {
   "cell_type": "markdown",
   "id": "77607292",
   "metadata": {},
   "source": [
    "## Fama-French Risk Factors\n",
    "Empyrical downloads Fama-French risk factors from 1970 onward:"
   ]
  },
  {
   "cell_type": "code",
   "execution_count": 6,
   "id": "34932d1f",
   "metadata": {},
   "outputs": [
    {
     "name": "stderr",
     "output_type": "stream",
     "text": [
      "/var/folders/5j/6vs4zprx4fqcwl49nsw0hzqc0000gn/T/ipykernel_45274/3535964830.py:3: FutureWarning: The frame.append method is deprecated and will be removed from pandas in a future version. Use pandas.concat instead.\n",
      "  risk_factors.head().append(risk_factors.tail())\n"
     ]
    },
    {
     "data": {
      "text/html": [
       "<div>\n",
       "<style scoped>\n",
       "    .dataframe tbody tr th:only-of-type {\n",
       "        vertical-align: middle;\n",
       "    }\n",
       "\n",
       "    .dataframe tbody tr th {\n",
       "        vertical-align: top;\n",
       "    }\n",
       "\n",
       "    .dataframe thead th {\n",
       "        text-align: right;\n",
       "    }\n",
       "</style>\n",
       "<table border=\"1\" class=\"dataframe\">\n",
       "  <thead>\n",
       "    <tr style=\"text-align: right;\">\n",
       "      <th></th>\n",
       "      <th>Mkt-RF</th>\n",
       "      <th>SMB</th>\n",
       "      <th>HML</th>\n",
       "      <th>RF</th>\n",
       "      <th>Mom</th>\n",
       "    </tr>\n",
       "    <tr>\n",
       "      <th>Date</th>\n",
       "      <th></th>\n",
       "      <th></th>\n",
       "      <th></th>\n",
       "      <th></th>\n",
       "      <th></th>\n",
       "    </tr>\n",
       "  </thead>\n",
       "  <tbody>\n",
       "    <tr>\n",
       "      <th>1970-01-02 00:00:00+00:00</th>\n",
       "      <td>0.0118</td>\n",
       "      <td>0.0129</td>\n",
       "      <td>0.0101</td>\n",
       "      <td>0.00029</td>\n",
       "      <td>-0.0340</td>\n",
       "    </tr>\n",
       "    <tr>\n",
       "      <th>1970-01-05 00:00:00+00:00</th>\n",
       "      <td>0.0059</td>\n",
       "      <td>0.0067</td>\n",
       "      <td>0.0072</td>\n",
       "      <td>0.00029</td>\n",
       "      <td>-0.0153</td>\n",
       "    </tr>\n",
       "    <tr>\n",
       "      <th>1970-01-06 00:00:00+00:00</th>\n",
       "      <td>-0.0074</td>\n",
       "      <td>0.0010</td>\n",
       "      <td>0.0021</td>\n",
       "      <td>0.00029</td>\n",
       "      <td>0.0038</td>\n",
       "    </tr>\n",
       "    <tr>\n",
       "      <th>1970-01-07 00:00:00+00:00</th>\n",
       "      <td>-0.0015</td>\n",
       "      <td>0.0040</td>\n",
       "      <td>-0.0033</td>\n",
       "      <td>0.00029</td>\n",
       "      <td>0.0011</td>\n",
       "    </tr>\n",
       "    <tr>\n",
       "      <th>1970-01-08 00:00:00+00:00</th>\n",
       "      <td>0.0004</td>\n",
       "      <td>0.0018</td>\n",
       "      <td>-0.0017</td>\n",
       "      <td>0.00029</td>\n",
       "      <td>0.0033</td>\n",
       "    </tr>\n",
       "    <tr>\n",
       "      <th>2022-09-26 00:00:00+00:00</th>\n",
       "      <td>-0.0102</td>\n",
       "      <td>0.0017</td>\n",
       "      <td>-0.0075</td>\n",
       "      <td>0.00009</td>\n",
       "      <td>0.0073</td>\n",
       "    </tr>\n",
       "    <tr>\n",
       "      <th>2022-09-27 00:00:00+00:00</th>\n",
       "      <td>-0.0005</td>\n",
       "      <td>0.0063</td>\n",
       "      <td>-0.0093</td>\n",
       "      <td>0.00009</td>\n",
       "      <td>-0.0013</td>\n",
       "    </tr>\n",
       "    <tr>\n",
       "      <th>2022-09-28 00:00:00+00:00</th>\n",
       "      <td>0.0215</td>\n",
       "      <td>0.0090</td>\n",
       "      <td>-0.0033</td>\n",
       "      <td>0.00009</td>\n",
       "      <td>-0.0138</td>\n",
       "    </tr>\n",
       "    <tr>\n",
       "      <th>2022-09-29 00:00:00+00:00</th>\n",
       "      <td>-0.0217</td>\n",
       "      <td>-0.0046</td>\n",
       "      <td>0.0086</td>\n",
       "      <td>0.00009</td>\n",
       "      <td>0.0085</td>\n",
       "    </tr>\n",
       "    <tr>\n",
       "      <th>2022-09-30 00:00:00+00:00</th>\n",
       "      <td>-0.0143</td>\n",
       "      <td>0.0050</td>\n",
       "      <td>0.0027</td>\n",
       "      <td>0.00009</td>\n",
       "      <td>0.0050</td>\n",
       "    </tr>\n",
       "  </tbody>\n",
       "</table>\n",
       "</div>"
      ],
      "text/plain": [
       "                           Mkt-RF     SMB     HML       RF     Mom\n",
       "Date                                                              \n",
       "1970-01-02 00:00:00+00:00  0.0118  0.0129  0.0101  0.00029 -0.0340\n",
       "1970-01-05 00:00:00+00:00  0.0059  0.0067  0.0072  0.00029 -0.0153\n",
       "1970-01-06 00:00:00+00:00 -0.0074  0.0010  0.0021  0.00029  0.0038\n",
       "1970-01-07 00:00:00+00:00 -0.0015  0.0040 -0.0033  0.00029  0.0011\n",
       "1970-01-08 00:00:00+00:00  0.0004  0.0018 -0.0017  0.00029  0.0033\n",
       "2022-09-26 00:00:00+00:00 -0.0102  0.0017 -0.0075  0.00009  0.0073\n",
       "2022-09-27 00:00:00+00:00 -0.0005  0.0063 -0.0093  0.00009 -0.0013\n",
       "2022-09-28 00:00:00+00:00  0.0215  0.0090 -0.0033  0.00009 -0.0138\n",
       "2022-09-29 00:00:00+00:00 -0.0217 -0.0046  0.0086  0.00009  0.0085\n",
       "2022-09-30 00:00:00+00:00 -0.0143  0.0050  0.0027  0.00009  0.0050"
      ]
     },
     "execution_count": 6,
     "metadata": {},
     "output_type": "execute_result"
    }
   ],
   "source": [
    "risk_factors = ep.utils.get_fama_french()\n",
    "\n",
    "risk_factors.head().append(risk_factors.tail())"
   ]
  },
  {
   "cell_type": "markdown",
   "id": "3179a0df",
   "metadata": {},
   "source": [
    "## Asset Prices and Benchmark Returns\n",
    "Empyrical yfinance to download price data from Yahoo! Finance. To obtain the S&P returns since 1950, use:"
   ]
  },
  {
   "cell_type": "code",
   "execution_count": 7,
   "id": "3e8f1056",
   "metadata": {},
   "outputs": [
    {
     "name": "stdout",
     "output_type": "stream",
     "text": [
      "[*********************100%***********************]  1 of 1 completed\n"
     ]
    },
    {
     "data": {
      "text/plain": [
       "Text(0.5, 0.98, 'Daily S&P 500 Returns')"
      ]
     },
     "execution_count": 7,
     "metadata": {},
     "output_type": "execute_result"
    },
    {
     "data": {
      "image/png": "[encoded data removed]",
      "text/plain": [
       "<Figure size 1400x500 with 2 Axes>"
      ]
     },
     "metadata": {},
     "output_type": "display_data"
    }
   ],
   "source": [
    "symbol = '^GSPC'\n",
    "returns = ep.utils.get_symbol_returns_from_yahoo(\n",
    "    symbol,\n",
    "    start='1950-01-01'\n",
    ")\n",
    "\n",
    "\n",
    "fig, axes = plt.subplots(ncols=2, figsize=(14, 5))\n",
    "\n",
    "with sns.axes_style('whitegrid'):\n",
    "    returns.plot(ax=axes[0], rot=0, title='Time Series', legend=False)\n",
    "    sns.histplot(returns, ax=axes[1], legend=False)\n",
    "axes[1].set_title('Histogram')\n",
    "sns.despine()\n",
    "plt.tight_layout()\n",
    "plt.suptitle('Daily S&P 500 Returns')"
   ]
  },
  {
   "cell_type": "code",
   "execution_count": null,
   "id": "50bf27c4",
   "metadata": {},
   "outputs": [],
   "source": []
  },
  {
   "cell_type": "code",
   "execution_count": null,
   "id": "770b708c",
   "metadata": {},
   "outputs": [],
   "source": []
  }
 ],
 "metadata": {
  "kernelspec": {
   "display_name": "Python 3 (ipykernel)",
   "language": "python",
   "name": "python3"
  },
  "language_info": {
   "codemirror_mode": {
    "name": "ipython",
    "version": 3
   },
   "file_extension": ".py",
   "mimetype": "text/x-python",
   "name": "python",
   "nbconvert_exporter": "python",
   "pygments_lexer": "ipython3",
   "version": "3.9.13"
  }
 },
 "nbformat": 4,
 "nbformat_minor": 5
}
