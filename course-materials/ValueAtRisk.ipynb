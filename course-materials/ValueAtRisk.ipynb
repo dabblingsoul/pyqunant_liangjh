{
 "cells": [
  {
   "cell_type": "markdown",
   "id": "b4eef99e",
   "metadata": {},
   "source": [
    "# Manage Your Portfolio’s Risk With Value At Risk\n",
    "\n",
    "VaR is one way professional traders manage risk. It estimates how much your portfolio might lose over a set time period. Using VaR is a good way to avoid losing all your money if the market moves against you.\n",
    "\n",
    "VaR lets you say something like this:\n",
    "\n",
    "“With 95% confidence, my portfolio’s loss will not exceed \\\\$750 in one day.\n",
    "\n",
    "Unfortunately, most non-professional traders don’t use VaR. They either don’t know it exists or think it’s too complicated to use."
   ]
  },
  {
   "cell_type": "markdown",
   "id": "31449034",
   "metadata": {},
   "source": [
    "## Step 1: Import The Libraries\n",
    "We’ll use a new library today: scipy. Scipy is a library for scientific and technical computing. It has a lot of statistical functions."
   ]
  },
  {
   "cell_type": "code",
   "execution_count": 2,
   "id": "9e655c9a",
   "metadata": {},
   "outputs": [],
   "source": [
    "import pandas as pd\n",
    "import numpy as np\n",
    "from scipy.stats import norm\n",
    "import matplotlib.pyplot as plt\n",
    "\n",
    "import yfinance as yf"
   ]
  },
  {
   "cell_type": "markdown",
   "id": "5c80ae89",
   "metadata": {},
   "source": [
    "## Step 2: Define The Variables\n",
    "We’ll simulate a portfolio of stocks. To do this, we need to define the symbols, the weights, and the investment amount.\n",
    "\n",
    "We also define the confidence level which we’ll use later."
   ]
  },
  {
   "cell_type": "code",
   "execution_count": 5,
   "id": "45bcbb0a",
   "metadata": {},
   "outputs": [],
   "source": [
    "# create your portfolio of stocks\n",
    "tickers = [\"AAPL\", \"META\", \"C\", \"DIS\"]\n",
    "\n",
    "# pick the weights of each stock (must add to 1)\n",
    "weights = np.array([0.25, 0.3, 0.15, 0.3])\n",
    "\n",
    "# the size of the portfolio\n",
    "initial_investment = 1_000\n",
    "\n",
    "# the confidence interval (95%)\n",
    "confidence = 0.05"
   ]
  },
  {
   "cell_type": "markdown",
   "id": "533c8b51",
   "metadata": {},
   "source": [
    "Now we can get the stock data for all the symbols in one line of code.\n",
    "\n"
   ]
  },
  {
   "cell_type": "code",
   "execution_count": 6,
   "id": "201d593c",
   "metadata": {},
   "outputs": [
    {
     "name": "stdout",
     "output_type": "stream",
     "text": [
      "[*********************100%***********************]  4 of 4 completed\n"
     ]
    }
   ],
   "source": [
    "data = yf.download(tickers, start=\"2018-01-01\", end=\"2021-12-31\")\n",
    "data = data.Close"
   ]
  },
  {
   "cell_type": "markdown",
   "id": "7804f5f2",
   "metadata": {},
   "source": [
    "## Step 3: Compute Portfolio Statistics\n",
    "Computing portfolio returns is not as simple as just adding up the returns of the individual stocks. We need to take the covariance between the stocks in the portfolio into account.\n",
    "\n",
    "Fortunately, this is easy in Python using pandas and NumPy."
   ]
  },
  {
   "cell_type": "code",
   "execution_count": 7,
   "id": "0022afa5",
   "metadata": {},
   "outputs": [],
   "source": [
    "# compute daily returns of each stock\n",
    "returns = data.pct_change()"
   ]
  },
  {
   "cell_type": "code",
   "execution_count": 8,
   "id": "45fe9451",
   "metadata": {},
   "outputs": [],
   "source": [
    "# compute the portfolio covariance matrix\n",
    "cov_matrix = returns.cov()"
   ]
  },
  {
   "cell_type": "code",
   "execution_count": 9,
   "id": "775a135c",
   "metadata": {},
   "outputs": [],
   "source": [
    "# compute the daily mean returns of each stock\n",
    "mean_returns = returns.mean()"
   ]
  },
  {
   "cell_type": "code",
   "execution_count": 10,
   "id": "9d21a42a",
   "metadata": {},
   "outputs": [],
   "source": [
    "# calculate portfolio mean return\n",
    "port_mean = mean_returns.dot(weights)"
   ]
  },
  {
   "cell_type": "code",
   "execution_count": 11,
   "id": "f0cfe77e",
   "metadata": {},
   "outputs": [],
   "source": [
    "# portfolio standard deviation\n",
    "port_stdev = np.sqrt(weights.T.dot(cov_matrix).dot(weights))"
   ]
  },
  {
   "cell_type": "code",
   "execution_count": 12,
   "id": "e0d78de3",
   "metadata": {},
   "outputs": [],
   "source": [
    "# mean of investment returns\n",
    "mean_investment = (1 + port_mean) * initial_investment"
   ]
  },
  {
   "cell_type": "code",
   "execution_count": 13,
   "id": "a7e888c1",
   "metadata": {},
   "outputs": [],
   "source": [
    "# Standard deviation of investmnet returns\n",
    "investment_stdev = initial_investment * port_stdev"
   ]
  },
  {
   "cell_type": "markdown",
   "id": "8752d1cd",
   "metadata": {},
   "source": [
    "First, we get the daily returns of the stocks in the portfolio. From there we get the mean return for all the data. We apply the weights to those returns and multiply them by the portfolio value to get the portfolio mean return.\n",
    "\n",
    "Then we compute the covariance between the returns, take the square root of the covariance-adjusted weights of the stocks in the portfolio, and compute the portfolio standard deviation.\n",
    "\n",
    "The portfolio mean and standard deviation are used in the next step.\n",
    "\n"
   ]
  },
  {
   "cell_type": "markdown",
   "id": "3bebaa12",
   "metadata": {},
   "source": [
    "## Step 4: Compute VaR\n",
    "To find the VaR of this portfolio, we start by finding the point on the density plot based on the confidence level, mean, and standard deviation.\n",
    "\n",
    "This is where scipy comes in.\n",
    "\n"
   ]
  },
  {
   "cell_type": "code",
   "execution_count": 14,
   "id": "680877f0",
   "metadata": {},
   "outputs": [],
   "source": [
    "# ppf takes a percentage and returns a standard deviation \n",
    "# multiplier for what value that percentage occurs at.\n",
    "# It is equivalent to a one-tail test on the density plot.\n",
    "percent_point = norm.ppf(confidence, mean_investment, investment_stdev)"
   ]
  },
  {
   "cell_type": "markdown",
   "id": "cffc6bbe",
   "metadata": {},
   "source": [
    "VaR is the portfolio value less this amount.\n",
    "\n"
   ]
  },
  {
   "cell_type": "code",
   "execution_count": 15,
   "id": "8c7ef450",
   "metadata": {},
   "outputs": [
    {
     "data": {
      "text/plain": [
       "'Portfolio VaR: 28.335597603904944'"
      ]
     },
     "execution_count": 15,
     "metadata": {},
     "output_type": "execute_result"
    }
   ],
   "source": [
    "# Calculate the VaR at our confidence interval\n",
    "value_at_risk = initial_investment - percent_point\n",
    "\n",
    "# print it out\n",
    "f\"Portfolio VaR: {value_at_risk}\""
   ]
  },
  {
   "cell_type": "markdown",
   "id": "c00ec939",
   "metadata": {},
   "source": [
    "This is the most you can expect to lose in one day with 95% confidence.\n",
    "\n"
   ]
  },
  {
   "cell_type": "markdown",
   "id": "4dcee0bc",
   "metadata": {},
   "source": [
    "## Bonus: Scaling VaR To Different Time Frames\n",
    "What about over one week? Or one month?\n",
    "\n",
    "Stock returns increase with the square root of time. Therefore to scale the value at risk, we multiply it by the square root of time. This sounds scary but it’s simple in Python.\n",
    "\n",
    "Multiply the one-day VaR by the square root of one (day) through the square root of 30 (days)."
   ]
  },
  {
   "cell_type": "code",
   "execution_count": 16,
   "id": "e4e721be",
   "metadata": {},
   "outputs": [],
   "source": [
    "# multiply by sqrt of time because stdev of stock returns increase\n",
    "# proportional to the square root of time\n",
    "value_at_risks = value_at_risk * np.sqrt(range(1, 31))"
   ]
  },
  {
   "cell_type": "markdown",
   "id": "ed0e7a65",
   "metadata": {},
   "source": [
    "Then we plot it.\n",
    "\n"
   ]
  },
  {
   "cell_type": "code",
   "execution_count": 17,
   "id": "c0d436b7",
   "metadata": {},
   "outputs": [
    {
     "data": {
      "text/plain": [
       "[<matplotlib.lines.Line2D at 0x7f97c86bee50>]"
      ]
     },
     "execution_count": 17,
     "metadata": {},
     "output_type": "execute_result"
    },
    {
     "data": {
      "image/png": "[encoded data removed]",
      "text/plain": [
       "<Figure size 432x288 with 1 Axes>"
      ]
     },
     "metadata": {
      "needs_background": "light"
     },
     "output_type": "display_data"
    }
   ],
   "source": [
    "# build plot of VaR over time\n",
    "plt.xlabel(\"Day\")\n",
    "plt.ylabel(\"Max loss\")\n",
    "plt.title(\"Portfolio VaR\")\n",
    "plt.plot(value_at_risks, \"r\")"
   ]
  },
  {
   "cell_type": "markdown",
   "id": "18f954fd",
   "metadata": {},
   "source": [
    "VaR is a simple measure that comes with various assumptions, caveats, and criticisms. It should be used as one of many risk management techniques. Despite its simplicity, it is a useful tool in the trader’s tool belt.\n",
    "\n",
    "Read more about VaR [here](https://preview.convertkit-mail2.com/click/dpheh0hzhm/aHR0cHM6Ly9lbi53aWtpcGVkaWEub3JnL3dpa2kvVmFsdWVfYXRfcmlzaw==)."
   ]
  },
  {
   "cell_type": "code",
   "execution_count": null,
   "id": "67c603c1",
   "metadata": {},
   "outputs": [],
   "source": []
  }
 ],
 "metadata": {
  "kernelspec": {
   "display_name": "Python 3 (ipykernel)",
   "language": "python",
   "name": "python3"
  },
  "language_info": {
   "codemirror_mode": {
    "name": "ipython",
    "version": 3
   },
   "file_extension": ".py",
   "mimetype": "text/x-python",
   "name": "python",
   "nbconvert_exporter": "python",
   "pygments_lexer": "ipython3",
   "version": "3.9.13"
  }
 },
 "nbformat": 4,
 "nbformat_minor": 5
}
