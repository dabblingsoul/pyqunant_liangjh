{
 "cells": [
  {
   "cell_type": "markdown",
   "metadata": {},
   "source": [
    "# Evaluate A Real Trading Strategy With Python And Pandas\n"
   ]
  },
  {
   "cell_type": "markdown",
   "metadata": {},
   "source": [
    "Fund managers report their holdings every month. They don’t want to tell investors they lost money on meme stocks. So at the end of the month, they [sell low-quality assets](https://www.investopedia.com/terms/w/windowdressing.asp) and buy high-quality assets, like bonds.\n",
    "\n",
    "We might be able to take advantage of this by buying bonds at the end of the month and selling them at the beginning of the month.\n",
    "\n",
    "Why does this work? The edge is probably too messy, too small, or just not interesting to professionals. Which makes it perfect for us.\n",
    "\n",
    "Most people over-complicate algorithmic trading – it really can be this simple.\n",
    "\n",
    "Here’s how to investigate this effect with Python, step by step:"
   ]
  },
  {
   "cell_type": "markdown",
   "metadata": {},
   "source": [
    "## Step 1: Get Data\n"
   ]
  },
  {
   "cell_type": "markdown",
   "metadata": {},
   "source": [
    "We’re going to use TLT as a proxy for bonds. We’ll use the yFinance library to get 10 years of data in 1 line of code.\n",
    "\n",
    "But first, the imports:"
   ]
  },
  {
   "cell_type": "code",
   "execution_count": 1,
   "metadata": {},
   "outputs": [],
   "source": [
    "%matplotlib inline\n",
    "import pandas as pd\n",
    "import numpy as np\n",
    "\n",
    "import yfinance as yf"
   ]
  },
  {
   "cell_type": "markdown",
   "metadata": {},
   "source": [
    "I’m using Jupyter Notebook and want to plot my charts inline which is what %matplotlib inline does.\n",
    "\n",
    "Let’s get the data."
   ]
  },
  {
   "cell_type": "code",
   "execution_count": 2,
   "metadata": {},
   "outputs": [
    {
     "name": "stdout",
     "output_type": "stream",
     "text": [
      "[*********************100%***********************]  1 of 1 completed\n"
     ]
    }
   ],
   "source": [
    "# download tlt stock data\n",
    "tlt = yf.download(\"TLT\", start=\"2002-01-01\", end=\"2022-06-30\")"
   ]
  },
  {
   "cell_type": "markdown",
   "metadata": {},
   "source": [
    "This downloads 5,015 days of price history into a DataFrame.\n",
    "\n"
   ]
  },
  {
   "cell_type": "markdown",
   "metadata": {},
   "source": [
    "## Step 2: Prepare Data"
   ]
  },
  {
   "cell_type": "markdown",
   "metadata": {},
   "source": [
    "Let’s add a few columns to the DataFrame that we’ll use later.\n",
    "\n",
    "First, we compute the log returns."
   ]
  },
  {
   "cell_type": "code",
   "execution_count": 3,
   "metadata": {},
   "outputs": [],
   "source": [
    "# compute log returns (so we can add together later - cannot do that with simple returns)\n",
    "tlt[\"log_return\"] = np.log(tlt[\"Adj Close\"] / tlt[\"Adj Close\"].shift(1))"
   ]
  },
  {
   "cell_type": "markdown",
   "metadata": {},
   "source": [
    "Then we’ll add a column for the calendar day of the month (1 – 31) and a column for the year.\n",
    "\n"
   ]
  },
  {
   "cell_type": "code",
   "execution_count": 4,
   "metadata": {},
   "outputs": [],
   "source": [
    "# add a column with the day of the month\n",
    "tlt[\"day_of_month\"] = tlt.index.day"
   ]
  },
  {
   "cell_type": "code",
   "execution_count": 5,
   "metadata": {},
   "outputs": [],
   "source": [
    "# add a column with the year\n",
    "tlt[\"year\"] = tlt.index.year"
   ]
  },
  {
   "cell_type": "markdown",
   "metadata": {},
   "source": [
    "## Step 3: Investigate Our Hypothesis\n"
   ]
  },
  {
   "cell_type": "markdown",
   "metadata": {},
   "source": [
    "We expect there to be positive returns in TLT toward the end of the month. We expect this because we think fund managers buy TLT at the end of the month. We expect there to be negative returns in TLT toward the beginning of the month. This is when fund managers sell their high-quality assets and go back to buying meme stocks.\n",
    "\n",
    "To see if this is true, we want the mean return on every day of the month."
   ]
  },
  {
   "cell_type": "code",
   "execution_count": 6,
   "metadata": {},
   "outputs": [],
   "source": [
    "# group by day number of the month\n",
    "grouped_by_day = tlt.groupby(\"day_of_month\").log_return.mean()"
   ]
  },
  {
   "cell_type": "markdown",
   "metadata": {},
   "source": [
    "Then it’s simple to plot:\n",
    "\n"
   ]
  },
  {
   "cell_type": "code",
   "execution_count": 7,
   "metadata": {},
   "outputs": [
    {
     "data": {
      "text/plain": [
       "<AxesSubplot:title={'center':'Mean Log Returns by Calendar Day of Month'}, xlabel='day_of_month'>"
      ]
     },
     "execution_count": 7,
     "metadata": {},
     "output_type": "execute_result"
    },
    {
     "data": {
      "image/png": "[encoded data removed]",
      "text/plain": [
       "<Figure size 432x288 with 1 Axes>"
      ]
     },
     "metadata": {
      "needs_background": "light"
     },
     "output_type": "display_data"
    }
   ],
   "source": [
    "# plot the mean returns across the entire sample period\n",
    "# we see evidence of the effect\n",
    "grouped_by_day.plot.bar(title=\"Mean Log Returns by Calendar Day of Month\")"
   ]
  },
  {
   "cell_type": "markdown",
   "metadata": {},
   "source": [
    "We see evidence that returns are positive during the last days of the month and negative during the first.\n",
    "\n",
    "This is for the entire range of data. Explore the persistence by grouping and averaging returns during different time frames.\n",
    "\n"
   ]
  },
  {
   "cell_type": "markdown",
   "metadata": {},
   "source": [
    "## Step 4: Build A Simple Trading Strategy\n"
   ]
  },
  {
   "cell_type": "markdown",
   "metadata": {},
   "source": [
    "Let’s build a naive strategy to test our hypothesis:\n",
    "\n",
    "- Buy and hold TLT during the last week of the month\n",
    "- Short and hold TLT during the first week of the month\n",
    "\n",
    "Simple.\n",
    "\n",
    "This code creates 3 new columns:\n",
    "\n",
    "- <i>first_week_returns</i> – the daily log return if it’s between the 1st and 7th day of the month, otherwise 0\n",
    "- <i>last_week_returns</i> – the daily log return if it’s on or after the 23rd day of the month, otherwise 0\n",
    "- <i>last_week_less_first_week</i> – the difference between last_week_returns and first_week_returns\n",
    "\n",
    "<i>last_week_less_first_week</i> represents the returns from our naive strategy. It’s basically saying “go long TLT the last week” and “go short TLT the first week”.\n",
    "\n"
   ]
  },
  {
   "cell_type": "code",
   "execution_count": 8,
   "metadata": {},
   "outputs": [],
   "source": [
    "# simple trading strategy\n",
    "# buy 7 days before the end of the month sell on first day of the month"
   ]
  },
  {
   "cell_type": "code",
   "execution_count": 9,
   "metadata": {},
   "outputs": [],
   "source": [
    "# grab the returns within the first week for aggregation purposes\n",
    "tlt[\"first_week_returns\"] = 0.0\n",
    "tlt.loc[tlt.day_of_month <= 7, \"first_week_returns\"] = tlt[\n",
    "    tlt.day_of_month <= 7\n",
    "].log_return"
   ]
  },
  {
   "cell_type": "code",
   "execution_count": 10,
   "metadata": {},
   "outputs": [],
   "source": [
    "# grab the returns within the last week for aggregation purposes\n",
    "tlt[\"last_week_returns\"] = 0.0\n",
    "tlt.loc[tlt.day_of_month >= 23, \"last_week_returns\"] = tlt[\n",
    "    tlt.day_of_month >= 23\n",
    "].log_return"
   ]
  },
  {
   "cell_type": "code",
   "execution_count": 11,
   "metadata": {},
   "outputs": [],
   "source": [
    "# simulate a simple strategy where we are short the first week and long the last week\n",
    "tlt[\"last_week_less_first_week\"] = tlt.last_week_returns - tlt.first_week_returns"
   ]
  },
  {
   "cell_type": "markdown",
   "metadata": {},
   "source": [
    "## Step 5: Plot Returns\n"
   ]
  },
  {
   "cell_type": "markdown",
   "metadata": {},
   "source": [
    "Let’s create a naive backtest of our naive strategy to get a feel for the returns.\n",
    "\n",
    "<i>The point of this is not to have a highly accurate, statistically significant backtest. It’s to spend the shortest amount of time possible to see if this strategy is worth pursuing in more detail.</i>\n",
    "\n",
    "First, we’ll sum up the returns by year and plot them."
   ]
  },
  {
   "cell_type": "markdown",
   "metadata": {},
   "source": [
    "We see more evidence that this effect is persistent through time. Since 2002, there have only been 3 years where returns are negative."
   ]
  },
  {
   "cell_type": "code",
   "execution_count": 12,
   "metadata": {},
   "outputs": [
    {
     "data": {
      "text/plain": [
       "<AxesSubplot:title={'center':'Mean Log Strategy Returns by Year'}, xlabel='year'>"
      ]
     },
     "execution_count": 12,
     "metadata": {},
     "output_type": "execute_result"
    },
    {
     "data": {
      "image/png": "[encoded data removed]",
      "text/plain": [
       "<Figure size 432x288 with 1 Axes>"
      ]
     },
     "metadata": {
      "needs_background": "light"
     },
     "output_type": "display_data"
    }
   ],
   "source": [
    "# group and mean the returns each year\n",
    "\n",
    "(\n",
    "    tlt.groupby(\"year\")\n",
    "    .last_week_less_first_week.mean()\n",
    "    .plot.bar(title=\"Mean Log Strategy Returns by Year\")\n",
    ")"
   ]
  },
  {
   "cell_type": "markdown",
   "metadata": {},
   "source": [
    "Let’s take a look at the cumulative returns by year.\n",
    "\n"
   ]
  },
  {
   "cell_type": "code",
   "execution_count": 13,
   "metadata": {},
   "outputs": [
    {
     "data": {
      "text/plain": [
       "<AxesSubplot:title={'center':'Cumulative Sum of Returns By Year'}, xlabel='year'>"
      ]
     },
     "execution_count": 13,
     "metadata": {},
     "output_type": "execute_result"
    },
    {
     "data": {
      "image/png": "[encoded data removed]",
      "text/plain": [
       "<Figure size 432x288 with 1 Axes>"
      ]
     },
     "metadata": {
      "needs_background": "light"
     },
     "output_type": "display_data"
    }
   ],
   "source": [
    "(\n",
    "    tlt.groupby(\"year\")\n",
    "    .last_week_less_first_week.sum()\n",
    "    .cumsum()\n",
    "    .plot(title=\"Cumulative Sum of Returns By Year\")\n",
    ")"
   ]
  },
  {
   "cell_type": "markdown",
   "metadata": {},
   "source": [
    "And we can do the same by day.\n",
    "\n"
   ]
  },
  {
   "cell_type": "code",
   "execution_count": 14,
   "metadata": {},
   "outputs": [
    {
     "data": {
      "text/plain": [
       "<AxesSubplot:title={'center':'Cumulative Sum of Returns By Day'}, xlabel='Date'>"
      ]
     },
     "execution_count": 14,
     "metadata": {},
     "output_type": "execute_result"
    },
    {
     "data": {
      "image/png": "[encoded data removed]",
      "text/plain": [
       "<Figure size 432x288 with 1 Axes>"
      ]
     },
     "metadata": {
      "needs_background": "light"
     },
     "output_type": "display_data"
    }
   ],
   "source": [
    "tlt.last_week_less_first_week.cumsum().plot(title=\"Cumulative Sum of Returns By Day\")"
   ]
  },
  {
   "cell_type": "markdown",
   "metadata": {},
   "source": [
    "There’s evidence that this effect is profitable. It’s worth spending more time exploring it more deeply."
   ]
  },
  {
   "cell_type": "code",
   "execution_count": null,
   "metadata": {},
   "outputs": [],
   "source": []
  }
 ],
 "metadata": {
  "kernelspec": {
   "display_name": "Python 3 (ipykernel)",
   "language": "python",
   "name": "python3"
  },
  "language_info": {
   "codemirror_mode": {
    "name": "ipython",
    "version": 3
   },
   "file_extension": ".py",
   "mimetype": "text/x-python",
   "name": "python",
   "nbconvert_exporter": "python",
   "pygments_lexer": "ipython3",
   "version": "3.9.7"
  }
 },
 "nbformat": 4,
 "nbformat_minor": 2
}
